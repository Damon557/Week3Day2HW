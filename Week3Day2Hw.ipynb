{
 "cells": [
  {
   "cell_type": "code",
   "execution_count": null,
   "metadata": {},
   "outputs": [],
   "source": [
    "first question"
   ]
  },
  {
   "cell_type": "code",
   "execution_count": 1,
   "metadata": {},
   "outputs": [],
   "source": [
    "class sort_chest():\n",
    "     #need help,Wont run properly.\n",
    "    def __init__(self, items, slots, chest_space, player):\n",
    "            self.items = items #Embers,Green Blossom,Transient Curse,Rite Of Kindling,Lordvessel,HumanityTitanite Fragments,Fire Keeper Souls,Estus Flask,Master Key\n",
    "            self.slots = slots\n",
    "            self.chest_space = chest_space\n",
    "            self.player = player\n",
    "        \n",
    "            \n",
    "    def purchased_products(self):\n",
    "        if self.chest_space <= 0:\n",
    "            print(\"Chest is full. Character is overloaded.\")\n",
    "        if self.chest_space < 0:\n",
    "            print(\"you missed {abs(self.chest_space something important.)}\")\n",
    "            self.chest_space = 0\n",
    "\n",
    "        else:\n",
    "            space = int(input(\"How many items would you like to puchase?\"))\n",
    "            self.chest_space -= space\n",
    "            print(f\"{space} parchase picked {self.chest_space} space left.\")\n",
    "\n",
    "\n",
    "    def drop_items(self):\n",
    "            if self.chest_space >= self.slots:\n",
    "                print(\"Chest is empty. Buy items to help you become Elden lord!\")\n",
    "                self.chest_space = self.slots\n",
    "            else:\n",
    "                drop = int(input(\"How many items are you dropping?\"))\n",
    "                self.chest_space += drop\n",
    "                if self.chest_space >= self.slots:\n",
    "                    self.chest_space = self.slots\n",
    "                    print(f\"{drop} Items left behind. There are {self.chest_space} unoccupied slots.\")\n",
    "                print(f\"{drop} Items dropped. There are {self.chest_space} unoccupied slots.\")\n",
    "\n",
    "    def change_player(self):\n",
    "                change = input(\"Who is playing? \")\n",
    "                self.player = change\n",
    "                print(f\"New journey by {self.player}\")\n",
    "\n",
    "    def check_slots(self):\n",
    "                print(self.chest_space)\n",
    "Chris_sort_chest = sort_chest(100, 90, 45, 'Chris')    \n",
    "        "
   ]
  },
  {
   "cell_type": "code",
   "execution_count": 2,
   "metadata": {},
   "outputs": [
    {
     "name": "stdout",
     "output_type": "stream",
     "text": [
      "We do not sell those items.\n",
      "You wont become Elden Lord!\n"
     ]
    }
   ],
   "source": [
    " def run():\n",
    "        while True:\n",
    "            response = input('What would you like to do? Purchase/Drop/Change Player/Check.slots//Quit')\n",
    "            if response.lower() == 'quit':\n",
    "                print(\"You wont become Elden Lord!\")\n",
    "                break\n",
    "            elif response.lower() == 'Purchase':\n",
    "                    Chris_sort_chest.purchased_products()\n",
    "                \n",
    "            elif response.lower() == 'unload':\n",
    "                Chris_sort_chest.drop()\n",
    "                    \n",
    "            elif response.lower() == 'change player':\n",
    "                Chris_sort_chest.change_player()\n",
    "                \n",
    "            elif response.lower() == 'check.slots':\n",
    "                Chris_sort_chest.check_slots()\n",
    "                \n",
    "            else:\n",
    "                print(\"We do not sell those items.\")\n",
    "\n",
    "run()"
   ]
  },
  {
   "cell_type": "code",
   "execution_count": null,
   "metadata": {},
   "outputs": [],
   "source": [
    "second question"
   ]
  },
  {
   "cell_type": "code",
   "execution_count": 108,
   "metadata": {},
   "outputs": [
    {
     "name": "stdout",
     "output_type": "stream",
     "text": [
      "HFLJAKDS\n"
     ]
    }
   ],
   "source": [
    "class capstring():\n",
    "    def __init__(self):\n",
    "        self.str1 = \"\"\n",
    "\n",
    "    def get_String(self):\n",
    "        self.str1 = input()\n",
    "\n",
    "    def print_String(self):\n",
    "        print(self.str1.upper())\n",
    "\n",
    "str1 = capstring()\n",
    "str1.get_String()\n",
    "str1.print_String()"
   ]
  }
 ],
 "metadata": {
  "kernelspec": {
   "display_name": "Python 3.9.13 64-bit",
   "language": "python",
   "name": "python3"
  },
  "language_info": {
   "codemirror_mode": {
    "name": "ipython",
    "version": 3
   },
   "file_extension": ".py",
   "mimetype": "text/x-python",
   "name": "python",
   "nbconvert_exporter": "python",
   "pygments_lexer": "ipython3",
   "version": "3.9.13"
  },
  "orig_nbformat": 4,
  "vscode": {
   "interpreter": {
    "hash": "11938c6bc6919ae2720b4d5011047913343b08a43b18698fd82dedb0d4417594"
   }
  }
 },
 "nbformat": 4,
 "nbformat_minor": 2
}
